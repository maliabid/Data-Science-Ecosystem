{
 "cells": [
  {
   "cell_type": "markdown",
   "id": "90ff6451",
   "metadata": {},
   "source": [
    "# My Jupyter Notebook on DataScienceEcosystem"
   ]
  },
  {
   "cell_type": "markdown",
   "id": "034003bd",
   "metadata": {},
   "source": [
    "**<u>Introductory sentence about Data Science:</u>** <br>\n",
    "Data science is a multidisciplinary field that leverages statistical analysis, machine learning, and domain expertise to extract valuable insights and knowledge from vast and complex datasets."
   ]
  },
  {
   "cell_type": "markdown",
   "id": "dc642f7e",
   "metadata": {},
   "source": [
    "**<u>Introductory sentence about Data Science:</u>** <br>\n",
    "Data science is a multidisciplinary field that leverages statistical analysis, machine learning, and domain expertise to extract valuable insights and knowledge from vast and complex datasets.\n",
    "<br>\n",
    "**<u>Data Science Languages:</u>** <br>\n",
    "1. Python\n",
    "2. R\n",
    "3. SQL (Structured Query Language)\n",
    "4. Julia\n",
    "5. SAS (Statistical Analysis System)"
   ]
  },
  {
   "cell_type": "markdown",
   "id": "0ac5ad17",
   "metadata": {},
   "source": [
    "**<u>Introductory sentence about Data Science:</u>** <br>\n",
    "Data science is a multidisciplinary field that leverages statistical analysis, machine learning, and domain expertise to extract valuable insights and knowledge from vast and complex datasets.\n",
    "<br>\n",
    "**<u>Data Science Libraries:</u>** <br>\n",
    "1. NumPy.\n",
    "2. Pandas.\n",
    "3. TensorFlow.\n",
    "4. Keras.\n",
    "5. PyTorch.\n",
    "6. SciPy"
   ]
  },
  {
   "cell_type": "markdown",
   "id": "d62a0efe",
   "metadata": {},
   "source": [
    "**<u>Data Science Tools:</u>** <br>\n",
    "| S.No | Tool Name | \n",
    "|:----:|:---------:|\n",
    "|  1   |   Python  |  \n",
    "|------|-----------|\n",
    "|  2   |     R     |  \n",
    "|------|-----------|\n",
    "|  3   |    SQL    |  \n",
    "|------|-----------|\n",
    "|  4   |   NumPy   |  \n",
    "|------|-----------|\n",
    "|  5   |  ggplot2  |  \n",
    "|------|-----------|\n",
    "|  6   |  PyTorch  | \n",
    "|------|-----------|\n",
    "|  7   |   Keras   |  \n",
    "|------|-----------|\n",
    "|  8   |  Jupyter  |  \n"
   ]
  },
  {
   "cell_type": "markdown",
   "id": "c061d530",
   "metadata": {},
   "source": [
    "**<u>Introductory sentence about Arithmetic Expression:</u>** <br>\n",
    "An arithmetic expression is a combination of numeric values, operators, and sometimes parenthesis. The result of this type of expression is also a numeric value. The operators used in these expressions are arithmetic operators like addition, subtraction, etc."
   ]
  },
  {
   "cell_type": "code",
   "execution_count": 7,
   "id": "9452c41f",
   "metadata": {},
   "outputs": [
    {
     "name": "stdout",
     "output_type": "stream",
     "text": [
      "Addition of two numbers is:  5\n",
      "Multiplication of two numbers is:  6\n"
     ]
    }
   ],
   "source": [
    "number1 = 3\n",
    "number2 = 2\n",
    "add = number1 + number2\n",
    "multiply = number1 * number2\n",
    "print(\"Addition of two numbers is: \", add)\n",
    "print(\"Multiplication of two numbers is: \", multiply)"
   ]
  },
  {
   "cell_type": "code",
   "execution_count": 8,
   "id": "38061bc4",
   "metadata": {},
   "outputs": [
    {
     "name": "stdout",
     "output_type": "stream",
     "text": [
      "Enter Time in Minutes: 130\n",
      "Hours: 2:10\n"
     ]
    }
   ],
   "source": [
    "min=int(input(\"Enter Time in Minutes: \"))\n",
    "h=min//60\n",
    "m=min%60\n",
    "print(\"Hours: \"+ str(h) + \":\" + str(m))"
   ]
  },
  {
   "cell_type": "markdown",
   "id": "65f461a0",
   "metadata": {},
   "source": [
    "**<u>Data Science Objectives:</u>** <br>\n",
    "1. Collecting data\n",
    "2. Processing data\n",
    "3. Exploring and visualizing data\n",
    "4. Analyzing (data) and/or applying machine learning (to data)\n",
    "5. Deciding (or planning) based on acquired insight"
   ]
  },
  {
   "cell_type": "markdown",
   "id": "8e7d0388",
   "metadata": {},
   "source": [
    "**Muhammad Ali Abid** <br>\n",
    "Assistant Professor"
   ]
  },
  {
   "cell_type": "code",
   "execution_count": null,
   "id": "8e15d157",
   "metadata": {},
   "outputs": [],
   "source": []
  }
 ],
 "metadata": {
  "kernelspec": {
   "display_name": "Python 3 (ipykernel)",
   "language": "python",
   "name": "python3"
  },
  "language_info": {
   "codemirror_mode": {
    "name": "ipython",
    "version": 3
   },
   "file_extension": ".py",
   "mimetype": "text/x-python",
   "name": "python",
   "nbconvert_exporter": "python",
   "pygments_lexer": "ipython3",
   "version": "3.10.9"
  }
 },
 "nbformat": 4,
 "nbformat_minor": 5
}
